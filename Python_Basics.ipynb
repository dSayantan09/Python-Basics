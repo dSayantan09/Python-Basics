{
  "nbformat": 4,
  "nbformat_minor": 0,
  "metadata": {
    "colab": {
      "provenance": []
    },
    "kernelspec": {
      "name": "python3",
      "display_name": "Python 3"
    },
    "language_info": {
      "name": "python"
    }
  },
  "cells": [
    {
      "cell_type": "markdown",
      "source": [
        "**Python Basics Questions**"
      ],
      "metadata": {
        "id": "vvrNM9n7hFAb"
      }
    },
    {
      "cell_type": "markdown",
      "source": [
        "1. What is Python, and why is it popular?\n",
        "---> Python is a high-level, interpreted, general-purpose programming language created by Guido van Rossum and first released in 1991. Its design philosophy emphasizes readability and simplicity, using indentation to define code blocks rather than curly braces or keywords. Python can be used in a wide range of tasks and fields, including web development, data science, automation, artificial intelligence, machine learning, scientific computing, scripting etc.\n",
        "\n",
        "It is popular because:\n",
        "* Simple syntax & ease of learning: Python’s syntax is clean and closely resembles everyday English, making it easy for beginners to read and write code. This makes it a favorite choice as a first programming language.\n",
        "\n",
        "*   Versatility and power: It can be used for almost anything—web apps, automation, system scripts, data analysis, machine learning, scientific research, and more, thanks to its general-purpose nature and broad support of programming paradigms (procedural, object-oriented, and functional).\n",
        "\n",
        "*   Rich ecosystem: Python provides access to an enormous number of libraries and frameworks (such as Django and Flask for web development, pandas and NumPy for data science, TensorFlow and scikit-learn for machine learning), greatly accelerating development in both simple scripts and complex industrial applications.\n",
        "\n",
        "\n",
        "*   Strong community support: Python’s global community is vast, active, and supportive. It offers extensive documentation, discussion forums, tutorials, open-source libraries, and continual improvements to the language.\n",
        "\n",
        "\n",
        "\n",
        "*   Cross-platform compatibility: Python runs on all major operating systems, including Windows, macOS, and Linux.\n",
        "\n"
      ],
      "metadata": {
        "id": "9i5gqfoZf7Z8"
      }
    },
    {
      "cell_type": "markdown",
      "source": [
        "2. What is an interpreter in Python?\n",
        "---> An interpreter in Python is a special program that reads and executes your Python code directly, allowing the computer to understand and perform the instructions you’ve written. Unlike compiled languages (such as C or C++), where the entire program is translated into machine code before running, Python code is processed line by line—making development more interactive and immediate."
      ],
      "metadata": {
        "id": "dOS5BD9bhTeg"
      }
    },
    {
      "cell_type": "markdown",
      "source": [
        "3. What are pre-defined keywords in Python?\n",
        "---> Pre-defined keywords in Python are reserved words that have special meaning in the language's syntax and cannot be used as variable names, function names, class names, or any other identifiers. These keywords are an essential part of Python’s grammar, providing the structure for defining logic, control flow, data structures, functions, and more.\n",
        "\n",
        "Examples: False, None, True, and, as, assert, async, await, break, class, continue, def, del, elif, else, except, finally, for etc."
      ],
      "metadata": {
        "id": "1ys9Xkukho10"
      }
    },
    {
      "cell_type": "markdown",
      "source": [
        "4. Can keywords be used as variable names?\n",
        "---> No , it is not possible to do it . Keywords are those who have a special meaning & have a special functions. Using keywords as variable name will give a syntax error."
      ],
      "metadata": {
        "id": "kFpViMDtiAKJ"
      }
    },
    {
      "cell_type": "markdown",
      "source": [
        "5. What is mutability in Python?\n",
        "---> Mutability in Python refers to an object's ability to have its internal state or data changed after it is created. If an object can be modified in place without changing its identity, it is considered mutable; if not, it is immutable.\n",
        "\n",
        "Mutable objects let you alter their contents after creation. Examples: lists, dictionaries, and sets. You can add, remove, or update their elements dynamically.\n",
        "\n",
        "Immutable objects cannot be changed once created. Examples: integers, floats, strings, and tuples. For instance, trying to modify a tuple or a string results in an error."
      ],
      "metadata": {
        "id": "srxH8OyMjYJZ"
      }
    },
    {
      "cell_type": "markdown",
      "source": [
        "6. Why are lists mutable, but tuples are immutable?\n",
        "---> Lists are mutable in Python because they are designed to allow modification after creation: you can change, add, or remove elements dynamically. This mutability is due to the underlying implementation of lists, which supports resizing and updating elements in place.\n",
        "\n",
        "Tuples are immutable because they are fixed-size and cannot be changed once created. This immutability makes tuples more memory-efficient and faster for certain operations, and it enables their use as dictionary keys or set elements (since they are hashable, unlike lists)."
      ],
      "metadata": {
        "id": "mPUhT7t3j4yQ"
      }
    },
    {
      "cell_type": "markdown",
      "source": [
        "7. What is the difference between “==” and “is” operators in Python?\n",
        "---> The difference between the \"==\" and \"is\" operators in Python is that:\n",
        "\n",
        "\n",
        "*   The \"==\" operator checks for equality of values. It compares whether the data or contents of two objects are the same, regardless of whether they are the exact same object in memory.\n",
        "\n",
        "*   The \"is\" operator checks for identity. It returns True if and only if the two variables point to the same object in memory, meaning they are literally the same instance.\n",
        "\n"
      ],
      "metadata": {
        "id": "mCdnwwYokPNW"
      }
    },
    {
      "cell_type": "markdown",
      "source": [
        "8.  What are logical operators in Python?\n",
        "---> Logical operators in Python are used to combine multiple conditional statements (boolean expressions) and perform logical operations on them. Python has three main logical operators:\n",
        "\n",
        "\n",
        "*  and: Returns True only if both operands (conditions) are True. If either operand is False, the result is False.\n",
        "*   or: Returns True if at least one of the operands is True. It returns False only if both operands are False.\n",
        "*   not: Returns True if the operand (condition) is False, and returns False if the operand is True. It essentially reverses the boolean value.\n",
        "\n",
        "\n",
        "\n"
      ],
      "metadata": {
        "id": "eLAeSyLJlQI5"
      }
    },
    {
      "cell_type": "markdown",
      "source": [
        "9.  What is type casting in Python?\n",
        "---> Type casting in Python, also known as type conversion, is the process of converting the data type of a variable or value from one type to another. This can be useful when you need to perform operations that require specific data types or when you want to interpret data differently.\n",
        "\n",
        "*   Implicit Type Casting: This is done automatically by the Python interpreter when it converts one data type to another without user intervention, usually to avoid data loss. For example, when you add an integer and a float, Python implicitly converts the integer to a float.\n",
        "\n",
        "*   Explicit Type Casting: This requires the programmer to manually convert a variable from one type to another using built-in functions like int(), float(), and str(). For example, using int(\"3\") converts the string \"3\" to an integer 3.\n",
        "\n"
      ],
      "metadata": {
        "id": "7YyiU59nlxtj"
      }
    },
    {
      "cell_type": "markdown",
      "source": [
        "10. What is the difference between implicit and explicit type casting?\n",
        "--->\n",
        "\n",
        "*   Implicit Type Casting: This is done automatically by the Python interpreter when it converts one data type to another without user intervention, usually to avoid data loss. For example, when you add an integer and a float, Python implicitly converts the integer to a float.\n",
        "\n",
        "*   Explicit Type Casting: This requires the programmer to manually convert a variable from one type to another using built-in functions like int(), float(), and str(). For example, using int(\"3\") converts the string \"3\" to an integer 3\n",
        "\n"
      ],
      "metadata": {
        "id": "HtwsQ3gxmMx9"
      }
    },
    {
      "cell_type": "markdown",
      "source": [
        "11. What is the purpose of conditional statements in Python?\n",
        "---> The purpose of conditional statements in Python is to control the flow of a program by executing certain blocks of code only when specific conditions are met. They allow your program to make decisions and behave differently depending on the values of variables or expressions. Essentially, conditional statements enable decision-making in code by testing whether conditions are true or false and running the appropriate code blocks accordingly.\n",
        "\n",
        "For example, an if statement checks a condition, and if it's true, executes the indented block of code. You can also use else to specify what to do if the condition is false, and elif (else if) to check additional conditions. This structure makes your program flexible and responsive to different inputs or situations."
      ],
      "metadata": {
        "id": "4YfmdeGonKu3"
      }
    },
    {
      "cell_type": "markdown",
      "source": [
        "12. How does the elif statement work?\n",
        "---> The elif statement in Python stands for \"else if\" and is used to check multiple conditions sequentially after an initial if condition. When you have several conditions to test, use elif to specify a new condition that Python should check only if the previous if or elif conditions were false.\n",
        "\n",
        "Here's how it works:\n",
        "\n",
        "\n",
        "*   Python evaluates the if condition first.\n",
        "\n",
        "*   If the if condition is false, Python moves to the first elif condition and evaluates it.\n",
        "\n",
        "*   If that elif condition is also false, Python checks the next elif, and so on.\n",
        "*   Once Python finds an if or elif condition that evaluates to true, it executes the corresponding code block and then exits the entire if-elif-else structure.\n",
        "\n",
        "\n",
        "*  If none of the if or elif conditions are true and there is an else block, that block will be executed.\n",
        "\n",
        "\n"
      ],
      "metadata": {
        "id": "PfJGMWUQnUtp"
      }
    },
    {
      "cell_type": "markdown",
      "source": [
        "13. What is the difference between for and while loops?\n",
        "---> The difference between for and while loops in Python lies mainly in how and when the number of iterations is determined and controlled:\n",
        "\n",
        "*   A for loop is used when the number of iterations is known or predetermined beforehand. It iterates over a sequence like a list, tuple, string, or a generator using the for keyword. The loop variable takes values one by one from the sequence or range, and the loop executes for each element. Example:\n",
        "```\n",
        "for i in range(5):  \n",
        "    print(i)\n",
        "```\n",
        "*   A while loop is used when the number of iterations is not known in advance and depends on a condition. It keeps executing as long as the specified condition is True and stops once it becomes False. The condition is checked before every iteration (pre-test loop). Example:\n",
        "```\n",
        "i = 0\n",
        "while i < 5:\n",
        "    print(i)\n",
        "    i += 1\n",
        "```"
      ],
      "metadata": {
        "id": "FQm0DmITn1Wz"
      }
    },
    {
      "cell_type": "markdown",
      "source": [
        "14.  Describe a scenario where a while loop is more suitable than a for loop?\n",
        "---> A while loop is more suitable than a for loop in scenarios where the number of iterations is not known beforehand and depends on a condition that can change dynamically during program execution.\n",
        "\n",
        "Suppose you want to keep asking a user to enter a number until they enter 0 to stop. Here, you don't know how many times the user will enter a number, so a while loop fits perfectly:\n",
        "```\n",
        "number = int(input(\"Enter a number (0 to stop): \"))\n",
        "while number != 0:\n",
        "    print(\"You entered:\", number)\n",
        "    number = int(input(\"Enter another number (0 to stop): \"))\n",
        "print(\"Loop stopped because you entered 0.\")\n",
        "```\n",
        "Output:\n",
        "```\n",
        "Enter a number (0 to stop): 7\n",
        "You entered: 7\n",
        "Enter another number (0 to stop): 19\n",
        "You entered: 19\n",
        "Enter another number (0 to stop): 65\n",
        "You entered: 65\n",
        "Enter another number (0 to stop): 0\n",
        "Loop stopped because you entered 0.\n",
        "```"
      ],
      "metadata": {
        "id": "LK3HtNJRo5LK"
      }
    },
    {
      "cell_type": "markdown",
      "source": [
        "Practical Questions"
      ],
      "metadata": {
        "id": "uO6NL9PsqqFt"
      }
    },
    {
      "cell_type": "markdown",
      "source": [
        "1. Write a Python program to print \"Hello, World!\""
      ],
      "metadata": {
        "id": "TtAOF67zrDF5"
      }
    },
    {
      "cell_type": "code",
      "source": [
        "print(\"Hello World!\")"
      ],
      "metadata": {
        "colab": {
          "base_uri": "https://localhost:8080/"
        },
        "id": "WlLTbhphrApX",
        "outputId": "865a8aab-6c92-433e-d317-a0163dce4af8"
      },
      "execution_count": 2,
      "outputs": [
        {
          "output_type": "stream",
          "name": "stdout",
          "text": [
            "Hello World!\n"
          ]
        }
      ]
    },
    {
      "cell_type": "markdown",
      "source": [
        "2.  Write a Python program that displays your name and age"
      ],
      "metadata": {
        "id": "qS5XQ8t7rOdw"
      }
    },
    {
      "cell_type": "code",
      "execution_count": 4,
      "metadata": {
        "colab": {
          "base_uri": "https://localhost:8080/"
        },
        "id": "AGk1DykHeKkR",
        "outputId": "59eaa635-4e4b-4e40-eaa8-576888edb111"
      },
      "outputs": [
        {
          "output_type": "stream",
          "name": "stdout",
          "text": [
            "Enter your name: Sayantan\n",
            "Enter your age: 24\n",
            "My name is Sayantan,and I am 24 years old\n"
          ]
        }
      ],
      "source": [
        "name = input(\"Enter your name: \")\n",
        "age = int(input(\"Enter your age: \"))\n",
        "print(f\"My name is {name},and I am {age} years old\")"
      ]
    },
    {
      "cell_type": "markdown",
      "source": [
        "3. Write code to print all the pre-defined keywords in Python using the keyword library"
      ],
      "metadata": {
        "id": "MhwKVxBdsm5f"
      }
    },
    {
      "cell_type": "code",
      "source": [
        "import keyword\n",
        "\n",
        "print(keyword.kwlist)"
      ],
      "metadata": {
        "colab": {
          "base_uri": "https://localhost:8080/"
        },
        "id": "RuKAs_OqsKe0",
        "outputId": "bc8a05a9-3ef3-4085-bb4a-aaad51fa28df"
      },
      "execution_count": 6,
      "outputs": [
        {
          "output_type": "stream",
          "name": "stdout",
          "text": [
            "['False', 'None', 'True', 'and', 'as', 'assert', 'async', 'await', 'break', 'class', 'continue', 'def', 'del', 'elif', 'else', 'except', 'finally', 'for', 'from', 'global', 'if', 'import', 'in', 'is', 'lambda', 'nonlocal', 'not', 'or', 'pass', 'raise', 'return', 'try', 'while', 'with', 'yield']\n"
          ]
        }
      ]
    },
    {
      "cell_type": "markdown",
      "source": [
        "4. Write a program that checks if a given word is a Python keyword"
      ],
      "metadata": {
        "id": "VeggssWLstTW"
      }
    },
    {
      "cell_type": "code",
      "source": [
        "import keyword\n",
        "\n",
        "word = input(\"Enter a word to check if it's a Python keyword: \")\n",
        "if keyword.iskeyword(word):\n",
        "    print(f\"{word} is a Python keyword.\")\n",
        "else:\n",
        "    print(f\"{word} is NOT a Python keyword.\")"
      ],
      "metadata": {
        "colab": {
          "base_uri": "https://localhost:8080/"
        },
        "id": "GxT2LwDqsr2Z",
        "outputId": "77e22e12-b8c9-41d0-9e2d-efb3e4209773"
      },
      "execution_count": 8,
      "outputs": [
        {
          "output_type": "stream",
          "name": "stdout",
          "text": [
            "Enter a word to check if it's a Python keyword: None\n",
            "None is a Python keyword.\n"
          ]
        }
      ]
    },
    {
      "cell_type": "markdown",
      "source": [
        "5. Create a list and tuple in Python, and demonstrate how attempting to change an element works differently for each"
      ],
      "metadata": {
        "id": "_IE5VGMStCvw"
      }
    },
    {
      "cell_type": "code",
      "source": [
        "my_list = [1, 2, 3]\n",
        "print(\"Original list:\", my_list)\n",
        "\n",
        "my_list[0] = 10\n",
        "print(\"Modified list:\", my_list)\n",
        "\n",
        "my_tuple = (1, 2, 3)\n",
        "print(\"Original tuple:\", my_tuple)\n",
        "\n",
        "try:\n",
        "    my_tuple[0] = 10\n",
        "except TypeError as e:\n",
        "    print(\"Error when trying to modify tuple:\", e)"
      ],
      "metadata": {
        "colab": {
          "base_uri": "https://localhost:8080/"
        },
        "id": "MWAXTmYatI6V",
        "outputId": "0735f7f4-cba9-4694-f1df-1eef038f758f"
      },
      "execution_count": 9,
      "outputs": [
        {
          "output_type": "stream",
          "name": "stdout",
          "text": [
            "Original list: [1, 2, 3]\n",
            "Modified list: [10, 2, 3]\n",
            "Original tuple: (1, 2, 3)\n",
            "Error when trying to modify tuple: 'tuple' object does not support item assignment\n"
          ]
        }
      ]
    },
    {
      "cell_type": "markdown",
      "source": [
        "6. Write a function to demonstrate the behavior of mutable and immutable arguments."
      ],
      "metadata": {
        "id": "PjPDajQP7qhh"
      }
    },
    {
      "cell_type": "code",
      "source": [
        "def modify_mutable(mutable_obj):\n",
        "    mutable_obj.append(\"new item\")\n",
        "\n",
        "def modify_immutable(immutable_obj):\n",
        "    immutable_obj += 10\n",
        "    print(\"Inside modify_immutable:\", immutable_obj)\n",
        "\n",
        "my_list = [1, 2, 3]\n",
        "print(\"Before modify_mutable:\", my_list)\n",
        "modify_mutable(my_list)\n",
        "print(\"After modify_mutable:\", my_list)\n",
        "print(\"\\n---\\n\")\n",
        "my_int = 5\n",
        "print(\"Before modify_immutable:\", my_int)\n",
        "modify_immutable(my_int)\n",
        "print(\"After modify_immutable:\", my_int)\n"
      ],
      "metadata": {
        "colab": {
          "base_uri": "https://localhost:8080/"
        },
        "id": "kooZ8-iHs5Y9",
        "outputId": "3daf7d8c-c4f2-404a-da78-a5677ae12edb"
      },
      "execution_count": 11,
      "outputs": [
        {
          "output_type": "stream",
          "name": "stdout",
          "text": [
            "Before modify_mutable: [1, 2, 3]\n",
            "After modify_mutable: [1, 2, 3, 'new item']\n",
            "\n",
            "---\n",
            "\n",
            "Before modify_immutable: 5\n",
            "Inside modify_immutable: 15\n",
            "After modify_immutable: 5\n"
          ]
        }
      ]
    },
    {
      "cell_type": "markdown",
      "source": [
        "7. Write a program that performs basic arithmetic operations on two user-input numbers."
      ],
      "metadata": {
        "id": "VBDUjsJp7-gT"
      }
    },
    {
      "cell_type": "code",
      "source": [
        "num1 = int(input(\"Enter a number: \"))\n",
        "num2 = int(input(\"Enter a number: \"))\n",
        "print(f\"Addition: {num1 + num2}\")\n",
        "print(f\"Subtraction: {num1 - num2}\")\n",
        "print(f\"Multiplication: {num1 * num2}\")\n",
        "print(f\"Division: {num1 / num2}\")\n",
        "print(f\"Floor Division: {num1 // num2}\")\n",
        "print(f\"Remainder: {num1 % num2}\")\n",
        "print(f\"Power: {num1 ** num2}\")"
      ],
      "metadata": {
        "colab": {
          "base_uri": "https://localhost:8080/"
        },
        "id": "TXPh4Mn570Nf",
        "outputId": "422673f8-f331-4dc1-f740-d04f2fad4dc6"
      },
      "execution_count": 15,
      "outputs": [
        {
          "output_type": "stream",
          "name": "stdout",
          "text": [
            "Enter a number: 12\n",
            "Enter a number: 5\n",
            "Addition: 17\n",
            "Subtraction: 7\n",
            "Multiplication: 60\n",
            "Division: 2.4\n",
            "Floor Division: 2\n",
            "Remainder: 2\n",
            "Power: 248832\n"
          ]
        }
      ]
    },
    {
      "cell_type": "markdown",
      "source": [
        "8.  Write a program to demonstrate the use of logical operators"
      ],
      "metadata": {
        "id": "nm3mI2PE-6e_"
      }
    },
    {
      "cell_type": "code",
      "source": [
        "x = 10\n",
        "y = 5\n",
        "\n",
        "if x > 0 and y > 0:\n",
        "    print(\"Both x and y are positive numbers.\")\n",
        "\n",
        "if x > 0 or y < 0:\n",
        "    print(\"At least one number is positive.\")\n",
        "\n",
        "if not(y > 10):\n",
        "    print(\"y is not greater than 10.\")"
      ],
      "metadata": {
        "colab": {
          "base_uri": "https://localhost:8080/"
        },
        "id": "zgPyuq8X_GBj",
        "outputId": "964bac40-98be-4643-e3ae-01014b2dba0e"
      },
      "execution_count": 16,
      "outputs": [
        {
          "output_type": "stream",
          "name": "stdout",
          "text": [
            "Both x and y are positive numbers.\n",
            "At least one number is positive.\n",
            "y is not greater than 10.\n"
          ]
        }
      ]
    },
    {
      "cell_type": "markdown",
      "source": [
        "9. Write a Python program to convert user input from string to integer, float, and boolean types."
      ],
      "metadata": {
        "id": "rqLGXSl4_PhX"
      }
    },
    {
      "cell_type": "code",
      "source": [
        "user_input = input(\"Enter something: \")\n",
        "int_value = int(user_input)\n",
        "print(\"Integer value:\", int_value)\n",
        "\n",
        "user_input1 = input(\"Enter something: \")\n",
        "float_value = float(user_input1)\n",
        "print(\"Float value:\", float_value)\n",
        "\n",
        "user_input2 = input(\"Enter something: \")\n",
        "bool_value = bool(user_input2)\n",
        "print(\"Boolean value:\", bool_value)\n"
      ],
      "metadata": {
        "colab": {
          "base_uri": "https://localhost:8080/"
        },
        "id": "ttc69tEV950f",
        "outputId": "f8572720-26da-47cf-8518-90f318521273"
      },
      "execution_count": 18,
      "outputs": [
        {
          "output_type": "stream",
          "name": "stdout",
          "text": [
            "Enter something: 123\n",
            "Integer value: 123\n",
            "Enter something: 34.56\n",
            "Float value: 34.56\n",
            "Enter something: True\n",
            "Boolean value: True\n"
          ]
        }
      ]
    },
    {
      "cell_type": "markdown",
      "source": [
        "10. Write code to demonstrate type casting with list elements."
      ],
      "metadata": {
        "id": "Z4DlrgbpABt7"
      }
    },
    {
      "cell_type": "code",
      "source": [
        "str_list = ['1', '2', '3', '4', '5']\n",
        "\n",
        "int_list = [int(x) for x in str_list]\n",
        "print(\"List of integers:\", int_list)\n",
        "\n",
        "float_list = [float(x) for x in str_list]\n",
        "print(\"List of floats:\", float_list)\n",
        "\n",
        "bool_list = [bool(int(x)) for x in str_list]\n",
        "print(\"List of booleans:\", bool_list)"
      ],
      "metadata": {
        "colab": {
          "base_uri": "https://localhost:8080/"
        },
        "id": "zLD4CLpt__S1",
        "outputId": "b1b1302f-985f-435d-a452-28366834197e"
      },
      "execution_count": 19,
      "outputs": [
        {
          "output_type": "stream",
          "name": "stdout",
          "text": [
            "List of integers: [1, 2, 3, 4, 5]\n",
            "List of floats: [1.0, 2.0, 3.0, 4.0, 5.0]\n",
            "List of booleans: [True, True, True, True, True]\n"
          ]
        }
      ]
    },
    {
      "cell_type": "markdown",
      "source": [
        "11. Write a program that checks if a number is positive, negative, or zero."
      ],
      "metadata": {
        "id": "2TMygcVBB7FD"
      }
    },
    {
      "cell_type": "code",
      "source": [
        "num= int(input(\"Enter a number: \"))\n",
        "if(num > 0):\n",
        "  print(f\"{num} is positive\")\n",
        "elif(num < 0):\n",
        "  print(f\"{num} is negative\")\n",
        "else:\n",
        "  print(f\"{num} is zero\")"
      ],
      "metadata": {
        "colab": {
          "base_uri": "https://localhost:8080/"
        },
        "id": "KM0XvBWYB60l",
        "outputId": "bd1e9ab9-99d1-4a5b-af50-1a8fb1f1c051"
      },
      "execution_count": 23,
      "outputs": [
        {
          "output_type": "stream",
          "name": "stdout",
          "text": [
            "Enter a number: -12\n",
            "-12 is negative\n"
          ]
        }
      ]
    },
    {
      "cell_type": "markdown",
      "source": [
        "12. Write a for loop to print numbers from 1 to 10."
      ],
      "metadata": {
        "id": "Yt183pTVCg-B"
      }
    },
    {
      "cell_type": "code",
      "source": [
        "for i in range(1,11):\n",
        "  print(i, end=\" \")"
      ],
      "metadata": {
        "colab": {
          "base_uri": "https://localhost:8080/"
        },
        "id": "RDrOCtivCgwY",
        "outputId": "17f59b86-3233-40aa-dc4e-c839d623c746"
      },
      "execution_count": 25,
      "outputs": [
        {
          "output_type": "stream",
          "name": "stdout",
          "text": [
            "1 2 3 4 5 6 7 8 9 10 "
          ]
        }
      ]
    },
    {
      "cell_type": "markdown",
      "source": [
        "13. Write a Python program to find the sum of all even numbers between 1 and 50."
      ],
      "metadata": {
        "id": "KfJZ99IUCuue"
      }
    },
    {
      "cell_type": "code",
      "source": [
        "sum = 0;\n",
        "for i in range(1, 51):\n",
        "  if(i % 2 == 0):\n",
        "    sum += i\n",
        "print(sum)"
      ],
      "metadata": {
        "colab": {
          "base_uri": "https://localhost:8080/"
        },
        "id": "C9Y1odlq_oPU",
        "outputId": "9e5ca6c3-3ea0-46b6-ec9a-eeba35e50b67"
      },
      "execution_count": 27,
      "outputs": [
        {
          "output_type": "stream",
          "name": "stdout",
          "text": [
            "650\n"
          ]
        }
      ]
    },
    {
      "cell_type": "markdown",
      "source": [
        "14. Write a program to reverse a string using a while loop."
      ],
      "metadata": {
        "id": "24yHLhFNDZD_"
      }
    },
    {
      "cell_type": "code",
      "source": [
        "name = input(\"Enter your name: \")\n",
        "\n",
        "reversed_string = \"\"\n",
        "index = len(name) - 1\n",
        "\n",
        "while index >= 0:\n",
        "    reversed_string += name[index]\n",
        "    index -= 1\n",
        "\n",
        "print(\"Reversed string:\", reversed_string)"
      ],
      "metadata": {
        "colab": {
          "base_uri": "https://localhost:8080/"
        },
        "id": "fGhWMo4lDRlh",
        "outputId": "73b80c49-4a8a-4a69-debe-a68f7ede275a"
      },
      "execution_count": 29,
      "outputs": [
        {
          "output_type": "stream",
          "name": "stdout",
          "text": [
            "Enter your name: Sayantan\n",
            "Reversed string: natnayaS\n"
          ]
        }
      ]
    },
    {
      "cell_type": "markdown",
      "source": [
        "15.  Write a Python program to calculate the factorial of a number provided by the user using a while loop"
      ],
      "metadata": {
        "id": "8R3HKw-CEBq5"
      }
    },
    {
      "cell_type": "code",
      "source": [
        "num = int(input(\"Enter a number: \"))\n",
        "fact = 1\n",
        "while num > 0:\n",
        "  fact *= num\n",
        "  num -= 1\n",
        "print(f\"Factorial is: {fact}\")"
      ],
      "metadata": {
        "colab": {
          "base_uri": "https://localhost:8080/"
        },
        "id": "8vGSsmM4D2Tf",
        "outputId": "858efdfd-1702-48a3-b3c0-f72bfcc588f7"
      },
      "execution_count": 30,
      "outputs": [
        {
          "output_type": "stream",
          "name": "stdout",
          "text": [
            "Enter a number: 5\n",
            "Factorial is: 120\n"
          ]
        }
      ]
    }
  ]
}